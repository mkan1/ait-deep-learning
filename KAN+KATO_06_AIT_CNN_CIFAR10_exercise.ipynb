{
  "nbformat": 4,
  "nbformat_minor": 0,
  "metadata": {
    "anaconda-cloud": {},
    "kernelspec": {
      "display_name": "Python 3",
      "language": "python",
      "name": "python3"
    },
    "language_info": {
      "codemirror_mode": {
        "name": "ipython",
        "version": 3
      },
      "file_extension": ".py",
      "mimetype": "text/x-python",
      "name": "python",
      "nbconvert_exporter": "python",
      "pygments_lexer": "ipython3",
      "version": "3.6.6"
    },
    "colab": {
      "provenance": [],
      "include_colab_link": true
    },
    "accelerator": "GPU",
    "gpuClass": "standard"
  },
  "cells": [
    {
      "cell_type": "markdown",
      "metadata": {
        "id": "view-in-github",
        "colab_type": "text"
      },
      "source": [
        "<a href=\"https://colab.research.google.com/github/mkan1/ait-deep-learning/blob/main/KAN%2BKATO_06_AIT_CNN_CIFAR10_exercise.ipynb\" target=\"_parent\"><img src=\"https://colab.research.google.com/assets/colab-badge.svg\" alt=\"Open In Colab\"/></a>"
      ]
    },
    {
      "cell_type": "markdown",
      "metadata": {
        "id": "cW-EyI5Lxpqi"
      },
      "source": [
        "# Copyright\n",
        "\n",
        "<PRE>\n",
        "Copyright (c) 2023 Bálint Gyires-Tóth - All Rights Reserved\n",
        "You may use and modify this code for research and development purpuses.\n",
        "Using this code for educational purposes (self-paced or instructor led) without the permission of the author is prohibited.\n",
        "</PRE>"
      ]
    },
    {
      "cell_type": "markdown",
      "source": [
        "# Convolutional Neural Network exercise\n",
        "\n",
        "In this notebook, you will build a convolutional neural network, which offers superior results over the previous MLP solution. Additionally, you will perform a more detailed evaluation.  "
      ],
      "metadata": {
        "id": "3EX4cCa4WKJu"
      }
    },
    {
      "cell_type": "code",
      "source": [
        "# imports \n",
        "from tensorflow.keras.losses import SparseCategoricalCrossentropy\n",
        "from tensorflow.keras.datasets import cifar10\n",
        "from tensorflow.keras.utils import to_categorical\n",
        "import numpy as np\n",
        "import matplotlib.pyplot as plt\n",
        "from tensorflow.keras.models import Sequential\n",
        "from tensorflow.keras.layers import Dense, Conv2D, MaxPool2D, Flatten, Dropout, BatchNormalization\n",
        "from tensorflow.keras.initializers import HeNormal\n",
        "from tensorflow.keras.callbacks import EarlyStopping"
      ],
      "metadata": {
        "id": "GdCMhy4HA2qd"
      },
      "execution_count": 1,
      "outputs": []
    },
    {
      "cell_type": "markdown",
      "source": [
        "# 1. Data\n",
        "The dataset we will use is the well-known CIFAR10 (Canadian Institute For Advanced Research). Explore the details on the Keras website first: https://keras.io/api/datasets/cifar10/\n",
        "\n",
        "There isn't much difference between the data preprocessing part and the one we did before. The only difference is that we don't have to reshape images into vectors, but we are working with a 4 dimensional data structure, where the dimensions are: batch, X, Y, and color channels. \n",
        "\n",
        "In the event that anything is not clear regarding the data preparation part, please check the previous CIFAR10 notebook."
      ],
      "metadata": {
        "id": "yY9fztIeWIKt"
      }
    },
    {
      "cell_type": "code",
      "source": [
        "(X_train, Y_train), (X_test, Y_test) = cifar10.load_data()"
      ],
      "metadata": {
        "id": "bez7q0eiWQCK",
        "colab": {
          "base_uri": "https://localhost:8080/"
        },
        "outputId": "9ed3b922-8ad7-4116-da29-73b3070d1828"
      },
      "execution_count": 2,
      "outputs": [
        {
          "output_type": "stream",
          "name": "stdout",
          "text": [
            "Downloading data from https://www.cs.toronto.edu/~kriz/cifar-10-python.tar.gz\n",
            "170498071/170498071 [==============================] - 3s 0us/step\n"
          ]
        }
      ]
    },
    {
      "cell_type": "code",
      "source": [
        "# it is in int8 format, the neural network requires float32\n",
        "X_train = X_train.astype(\"float32\")\n",
        "X_test = X_test.astype(\"float32\")"
      ],
      "metadata": {
        "id": "vukOcBM0XzSj"
      },
      "execution_count": 3,
      "outputs": []
    },
    {
      "cell_type": "code",
      "source": [
        "train_ratio  = 0.8\n",
        "train_length = X_train.shape[0]\n",
        "train_split  = int(train_ratio*train_length)\n",
        "X_valid, Y_valid = X_train[train_split:], Y_train[train_split:]\n",
        "X_train, Y_train = X_train[:train_split], Y_train[:train_split]"
      ],
      "metadata": {
        "id": "mRwuWxxIxLgN"
      },
      "execution_count": 4,
      "outputs": []
    },
    {
      "cell_type": "code",
      "source": [
        "mean = X_train.mean(axis=0)\n",
        "std  = X_train.std(axis=0)\n",
        "\n",
        "X_train = (X_train-mean)/std\n",
        "X_valid = (X_valid-mean)/std\n",
        "X_test  = (X_test-mean)/std"
      ],
      "metadata": {
        "id": "2ESLP1EIyB2J"
      },
      "execution_count": 5,
      "outputs": []
    },
    {
      "cell_type": "code",
      "source": [
        "nb_classes = len(np.unique(Y_train))\n",
        "Y_train = to_categorical(Y_train, nb_classes)\n",
        "Y_valid = to_categorical(Y_valid, nb_classes)\n",
        "Y_test  = to_categorical(Y_test, nb_classes)"
      ],
      "metadata": {
        "id": "xwZ4OJ6I8lba"
      },
      "execution_count": 6,
      "outputs": []
    },
    {
      "cell_type": "code",
      "source": [
        "print(\"Shapes of the training, validation and test input data:\", X_train.shape, X_valid.shape, X_test.shape)\n",
        "print(\"Shapes of the training, validation and test output data:\", Y_train.shape, Y_valid.shape, Y_test.shape)\n",
        "print(\"Mean values of the training, validation and test input data:\", X_train.mean(), X_valid.mean(), X_test.mean())\n",
        "print(\"Standard deviation of the training, validation and test input data:\", X_train.std(), X_valid.std(), X_test.std())"
      ],
      "metadata": {
        "id": "O_jdJVcvX0vi",
        "colab": {
          "base_uri": "https://localhost:8080/"
        },
        "outputId": "132d6df6-e36f-417e-f10c-9595c579bcc3"
      },
      "execution_count": 7,
      "outputs": [
        {
          "output_type": "stream",
          "name": "stdout",
          "text": [
            "Shapes of the training, validation and test input data: (40000, 32, 32, 3) (10000, 32, 32, 3) (10000, 32, 32, 3)\n",
            "Shapes of the training, validation and test output data: (40000, 10) (10000, 10) (10000, 10)\n",
            "Mean values of the training, validation and test input data: 2.2788842e-09 0.0023437198 0.013331206\n",
            "Standard deviation of the training, validation and test input data: 1.0000023 0.9965626 0.99783075\n"
          ]
        }
      ]
    },
    {
      "cell_type": "code",
      "source": [
        "Y_test[:1]"
      ],
      "metadata": {
        "colab": {
          "base_uri": "https://localhost:8080/"
        },
        "id": "J2CdGog8GOvO",
        "outputId": "727a8872-a4a5-4731-acba-62740b07521b"
      },
      "execution_count": 8,
      "outputs": [
        {
          "output_type": "execute_result",
          "data": {
            "text/plain": [
              "array([[0., 0., 0., 1., 0., 0., 0., 0., 0., 0.]], dtype=float32)"
            ]
          },
          "metadata": {},
          "execution_count": 8
        }
      ]
    },
    {
      "cell_type": "markdown",
      "metadata": {
        "id": "cJ14oyZExpqj"
      },
      "source": [
        "# 2. Exercise: training"
      ]
    },
    {
      "cell_type": "markdown",
      "source": [
        "Create and train a convolutional neural network with the following requirements:\n",
        "* apply early stopping with patience=5 and monitor the validation accuracy, don't forget to load back the best weights after early stopping\n",
        "* the number of trainable parameters is lower than 200.000\n",
        "* the validation accuracy must be higher than 72%\n",
        "\n",
        "Hints:\n",
        "* you can always inspect the number of trainable parameters per layer with model.summary()\n",
        "* usually the most trainable parameters are between the last convolutional layer and the next dense layer -- so you should have a reasonable output size at the last convolutional layer\n",
        "* regularization helps (e.g. DropOut and/or BatchNormalization)\n",
        "* use the right activation function at the output layer and the corresponding loss function\n",
        "* for the chosen activation functions, please use the appropriate initialization method\n",
        "* you can match the dimension of the last conv/pooling layer to the next dense layer with e.g. Flatten()\n",
        "* ADAM optimizer is a reasonable choice \n",
        "* don't forget to turn on GPU support in Colab, otherwise, it would be quite slow to train the networks\n",
        "\n"
      ],
      "metadata": {
        "id": "j1tGVPdD-pp3"
      }
    },
    {
      "cell_type": "code",
      "source": [
        "es = EarlyStopping(patience=5, restore_best_weights=True) # early stopping"
      ],
      "metadata": {
        "id": "5dBQxJHIHrbd"
      },
      "execution_count": 9,
      "outputs": []
    },
    {
      "cell_type": "code",
      "source": [
        "# model definition\n",
        "model = Sequential()\n",
        "model.add(Conv2D(32, (3, 3), activation='relu', input_shape=(32, 32, 3)))\n",
        "model.add(MaxPool2D((2, 2)))\n",
        "model.add(BatchNormalization())\n",
        "model.add(Conv2D(64, (3, 3), activation='relu'))\n",
        "model.add(MaxPool2D((2, 2)))\n",
        "model.add(Conv2D(64, (3, 3), activation='relu'))\n",
        "model.add(Conv2D(64, (3, 3), activation='relu'))\n",
        "model.add(Flatten())\n",
        "model.add(Dense(64, activation='relu'))\n",
        "model.add(BatchNormalization())\n",
        "model.add(Dense(10,activation='softmax'))\n",
        "\n",
        "# loss function and optimizer\n",
        "model.compile(optimizer='adam',\n",
        "              loss='categorical_crossentropy',\n",
        "              metrics=['accuracy'])\n"
      ],
      "metadata": {
        "id": "PuxHOqLt-3Nd"
      },
      "execution_count": 10,
      "outputs": []
    },
    {
      "cell_type": "code",
      "source": [
        "model.summary()"
      ],
      "metadata": {
        "id": "5eomQw8uE9Ix",
        "colab": {
          "base_uri": "https://localhost:8080/"
        },
        "outputId": "461c61dc-4d61-458c-9f2d-df6c27c24e55"
      },
      "execution_count": 11,
      "outputs": [
        {
          "output_type": "stream",
          "name": "stdout",
          "text": [
            "Model: \"sequential\"\n",
            "_________________________________________________________________\n",
            " Layer (type)                Output Shape              Param #   \n",
            "=================================================================\n",
            " conv2d (Conv2D)             (None, 30, 30, 32)        896       \n",
            "                                                                 \n",
            " max_pooling2d (MaxPooling2D  (None, 15, 15, 32)       0         \n",
            " )                                                               \n",
            "                                                                 \n",
            " batch_normalization (BatchN  (None, 15, 15, 32)       128       \n",
            " ormalization)                                                   \n",
            "                                                                 \n",
            " conv2d_1 (Conv2D)           (None, 13, 13, 64)        18496     \n",
            "                                                                 \n",
            " max_pooling2d_1 (MaxPooling  (None, 6, 6, 64)         0         \n",
            " 2D)                                                             \n",
            "                                                                 \n",
            " conv2d_2 (Conv2D)           (None, 4, 4, 64)          36928     \n",
            "                                                                 \n",
            " conv2d_3 (Conv2D)           (None, 2, 2, 64)          36928     \n",
            "                                                                 \n",
            " flatten (Flatten)           (None, 256)               0         \n",
            "                                                                 \n",
            " dense (Dense)               (None, 64)                16448     \n",
            "                                                                 \n",
            " batch_normalization_1 (Batc  (None, 64)               256       \n",
            " hNormalization)                                                 \n",
            "                                                                 \n",
            " dense_1 (Dense)             (None, 10)                650       \n",
            "                                                                 \n",
            "=================================================================\n",
            "Total params: 110,730\n",
            "Trainable params: 110,538\n",
            "Non-trainable params: 192\n",
            "_________________________________________________________________\n"
          ]
        }
      ]
    },
    {
      "cell_type": "markdown",
      "source": [
        "Please, check the number of trainable paramers:"
      ],
      "metadata": {
        "id": "8tIbIIeTEI41"
      }
    },
    {
      "cell_type": "code",
      "source": [
        "print(\"#trainable parameters:\",model.count_params())"
      ],
      "metadata": {
        "id": "xdBAG7EJETlX",
        "colab": {
          "base_uri": "https://localhost:8080/"
        },
        "outputId": "b01a06e7-b694-46e3-9c86-e794ca091365"
      },
      "execution_count": 12,
      "outputs": [
        {
          "output_type": "stream",
          "name": "stdout",
          "text": [
            "#trainable parameters: 110730\n"
          ]
        }
      ]
    },
    {
      "cell_type": "code",
      "source": [
        "# training\n",
        "network_history = model.fit(X_train, Y_train, epochs=20, \n",
        "                    validation_data=(X_valid, Y_valid),\n",
        "                    callbacks=[es])"
      ],
      "metadata": {
        "id": "u8tFNCNVHyt9",
        "colab": {
          "base_uri": "https://localhost:8080/"
        },
        "outputId": "f752f54e-44f3-4a1f-d09c-16fc2d9ac614"
      },
      "execution_count": 13,
      "outputs": [
        {
          "output_type": "stream",
          "name": "stdout",
          "text": [
            "Epoch 1/20\n",
            "1250/1250 [==============================] - 21s 7ms/step - loss: 1.3944 - accuracy: 0.4983 - val_loss: 1.2707 - val_accuracy: 0.5528\n",
            "Epoch 2/20\n",
            "1250/1250 [==============================] - 8s 7ms/step - loss: 1.0616 - accuracy: 0.6252 - val_loss: 1.0394 - val_accuracy: 0.6405\n",
            "Epoch 3/20\n",
            "1250/1250 [==============================] - 7s 6ms/step - loss: 0.9314 - accuracy: 0.6734 - val_loss: 1.1273 - val_accuracy: 0.6271\n",
            "Epoch 4/20\n",
            "1250/1250 [==============================] - 9s 7ms/step - loss: 0.8357 - accuracy: 0.7119 - val_loss: 0.8835 - val_accuracy: 0.6875\n",
            "Epoch 5/20\n",
            "1250/1250 [==============================] - 8s 7ms/step - loss: 0.7688 - accuracy: 0.7347 - val_loss: 0.8283 - val_accuracy: 0.7129\n",
            "Epoch 6/20\n",
            "1250/1250 [==============================] - 8s 6ms/step - loss: 0.7152 - accuracy: 0.7497 - val_loss: 0.9061 - val_accuracy: 0.6992\n",
            "Epoch 7/20\n",
            "1250/1250 [==============================] - 8s 7ms/step - loss: 0.6644 - accuracy: 0.7707 - val_loss: 0.8989 - val_accuracy: 0.7048\n",
            "Epoch 8/20\n",
            "1250/1250 [==============================] - 9s 7ms/step - loss: 0.6202 - accuracy: 0.7859 - val_loss: 0.8896 - val_accuracy: 0.7161\n",
            "Epoch 9/20\n",
            "1250/1250 [==============================] - 9s 7ms/step - loss: 0.5813 - accuracy: 0.7983 - val_loss: 0.8270 - val_accuracy: 0.7304\n",
            "Epoch 10/20\n",
            "1250/1250 [==============================] - 10s 8ms/step - loss: 0.5452 - accuracy: 0.8093 - val_loss: 0.8775 - val_accuracy: 0.7180\n",
            "Epoch 11/20\n",
            "1250/1250 [==============================] - 9s 7ms/step - loss: 0.5124 - accuracy: 0.8221 - val_loss: 0.8136 - val_accuracy: 0.7308\n",
            "Epoch 12/20\n",
            "1250/1250 [==============================] - 9s 7ms/step - loss: 0.4744 - accuracy: 0.8354 - val_loss: 1.0145 - val_accuracy: 0.6907\n",
            "Epoch 13/20\n",
            "1250/1250 [==============================] - 7s 6ms/step - loss: 0.4399 - accuracy: 0.8462 - val_loss: 0.9586 - val_accuracy: 0.7118\n",
            "Epoch 14/20\n",
            "1250/1250 [==============================] - 9s 7ms/step - loss: 0.4191 - accuracy: 0.8529 - val_loss: 0.9079 - val_accuracy: 0.7245\n",
            "Epoch 15/20\n",
            "1250/1250 [==============================] - 8s 7ms/step - loss: 0.3831 - accuracy: 0.8663 - val_loss: 0.8990 - val_accuracy: 0.7381\n",
            "Epoch 16/20\n",
            "1250/1250 [==============================] - 7s 6ms/step - loss: 0.3648 - accuracy: 0.8714 - val_loss: 0.9282 - val_accuracy: 0.7333\n"
          ]
        }
      ]
    },
    {
      "cell_type": "markdown",
      "source": [
        "# 3. Exercise: evaluation on test data\n",
        "You will evaluate the classification of the test data using the common metrics and the confusion matrix in this section. \n",
        "\n",
        "\n",
        "As a first stes, let's run the predictions and convert the predicted softmax outputs to dense labels. The one-hot encoded labels are also converted back to dense labels, as they are required for the evaluation functions."
      ],
      "metadata": {
        "id": "2FtKp-a2-A9m"
      }
    },
    {
      "cell_type": "code",
      "source": [
        "probas = model.predict(X_test)\n",
        "preds  = np.argmax(probas,axis=1)\n",
        "Y_test_dense = np.argmax(Y_test, axis=1) # get the original dense labels of the test data"
      ],
      "metadata": {
        "id": "EcWAqwlDMq3y",
        "colab": {
          "base_uri": "https://localhost:8080/"
        },
        "outputId": "2c84934d-9df5-4b18-95d7-d4dc4217451f"
      },
      "execution_count": 14,
      "outputs": [
        {
          "output_type": "stream",
          "name": "stdout",
          "text": [
            "313/313 [==============================] - 1s 2ms/step\n"
          ]
        }
      ]
    },
    {
      "cell_type": "markdown",
      "source": [
        "## 3.1. Exercise: Metrics\n",
        "please review the common classification metrics (accuracy, precision, recall, F1) for the complete model (not per class). \n",
        "\n",
        "Hints:\n",
        "* use macro averaging\n",
        "* you have to import the right functions from [sklearn.metrics](https://scikit-learn.org/stable/modules/model_evaluation.html)\n"
      ],
      "metadata": {
        "id": "RWJ-PH_iMs9K"
      }
    },
    {
      "cell_type": "code",
      "source": [
        "from sklearn.metrics import accuracy_score, precision_score, recall_score, f1_score"
      ],
      "metadata": {
        "id": "5sKm5zHSMZ_x"
      },
      "execution_count": 15,
      "outputs": []
    },
    {
      "cell_type": "code",
      "source": [
        "print(\"Accuracy:\",accuracy_score(Y_test_dense, preds))\n",
        "print(\"Precision:\",precision_score(Y_test_dense, preds, average='macro'))\n",
        "print(\"Recall:\",recall_score(Y_test_dense, preds, average='macro'))\n",
        "print(\"F1:\",f1_score(Y_test_dense, preds, average='macro'))"
      ],
      "metadata": {
        "id": "I3_9wgDREUna",
        "colab": {
          "base_uri": "https://localhost:8080/"
        },
        "outputId": "a127e5b5-e8f9-47d7-d216-7714eb35c147"
      },
      "execution_count": 16,
      "outputs": [
        {
          "output_type": "stream",
          "name": "stdout",
          "text": [
            "Accuracy: 0.7313\n",
            "Precision: 0.7464934837165125\n",
            "Recall: 0.7313\n",
            "F1: 0.73367570859944\n"
          ]
        }
      ]
    },
    {
      "cell_type": "markdown",
      "source": [
        "\n",
        "## 3.2. Exercise: Confusion matrix\n",
        "Calculate the confusion matrix and display the results in a heatmap (with decimal values).\n",
        "\n",
        "Hints:\n",
        "* you have to do the imports this time too, e.g. from [sklearn.metrics](https://scikit-learn.org/stable/modules/model_evaluation.html) and the [heatmap function](https://seaborn.pydata.org/generated/seaborn.heatmap.html) of [seaborn](https://seaborn.pydata.org/)\n",
        "* for displaying the decimal values, you have to turn annot=True and define fmt='d' in the heatmap function of seaborn"
      ],
      "metadata": {
        "id": "ECHguBFtGL7f"
      }
    },
    {
      "cell_type": "code",
      "source": [
        "from sklearn.metrics import confusion_matrix\n",
        "import seaborn as sns"
      ],
      "metadata": {
        "id": "SIi2VzMBO3yD"
      },
      "execution_count": 17,
      "outputs": []
    },
    {
      "cell_type": "code",
      "metadata": {
        "id": "cdqODx92Svw7",
        "colab": {
          "base_uri": "https://localhost:8080/",
          "height": 391
        },
        "outputId": "306f98d7-d411-495f-a2ff-4069f15afaee"
      },
      "source": [
        "conf = confusion_matrix(Y_test_dense, preds)\n",
        "plt.figure(figsize=(7,6))\n",
        "sns.heatmap(conf, annot=True, fmt='d')"
      ],
      "execution_count": 19,
      "outputs": [
        {
          "output_type": "execute_result",
          "data": {
            "text/plain": [
              "<Axes: >"
            ]
          },
          "metadata": {},
          "execution_count": 19
        },
        {
          "output_type": "display_data",
          "data": {
            "text/plain": [
              "<Figure size 504x432 with 2 Axes>"
            ],
            "image/png": "[encoded data removed]"
          },
          "metadata": {
            "needs_background": "light"
          }
        }
      ]
    },
    {
      "cell_type": "markdown",
      "source": [
        "# Collaboration between Taichi Kato and Max Kan"
      ],
      "metadata": {
        "id": "DYx2VkBHNiEP"
      }
    }
  ]
}