{
  "nbformat": 4,
  "nbformat_minor": 0,
  "metadata": {
    "kernelspec": {
      "display_name": "Python 3",
      "language": "python",
      "name": "python3"
    },
    "language_info": {
      "codemirror_mode": {
        "name": "ipython",
        "version": 3
      },
      "file_extension": ".py",
      "mimetype": "text/x-python",
      "name": "python",
      "nbconvert_exporter": "python",
      "pygments_lexer": "ipython3",
      "version": "3.6.6"
    },
    "colab": {
      "provenance": [],
      "include_colab_link": true
    }
  },
  "cells": [
    {
      "cell_type": "markdown",
      "metadata": {
        "id": "view-in-github",
        "colab_type": "text"
      },
      "source": [
        "<a href=\"https://colab.research.google.com/github/mkan1/ait-deep-learning/blob/main/assessment6.ipynb\" target=\"_parent\"><img src=\"https://colab.research.google.com/assets/colab-badge.svg\" alt=\"Open In Colab\"/></a>"
      ]
    },
    {
      "cell_type": "markdown",
      "metadata": {
        "id": "_jiGtJu6u9ml"
      },
      "source": [
        "# Copyright\n",
        "\n",
        "<PRE>\n",
        "Copyright (c) 2023 Bálint Gyires-Tóth - All Rights Reserved\n",
        "You may use and modify this code for research and development purpuses.\n",
        "Use this code for educational purposes (self-paced or instructor led) without the permission of the author is prohibited.\n",
        "</PRE>"
      ]
    },
    {
      "cell_type": "markdown",
      "metadata": {
        "id": "oXyFC44jV-PP"
      },
      "source": [
        "# Author classification\n",
        "The task is to train a 1D CNN or an LSTM that is able to  classify text from two authors. The final model should be able to tell about a text with a given length (e.g. 60 characters) who wrote it. \n",
        "\n",
        "Please write the codes according to the following parts:"
      ]
    },
    {
      "cell_type": "markdown",
      "metadata": {
        "id": "jCnLoeGrHXsp"
      },
      "source": [
        "## Python module imports\n",
        "Import all Python modules that you would need during the Assignment."
      ]
    },
    {
      "cell_type": "code",
      "metadata": {
        "id": "7itbFGt3HXVT"
      },
      "source": [
        "import seaborn as sns\n",
        "import matplotlib.pyplot as plt\n",
        "import numpy as np\n",
        "import tensorflow as tf\n",
        "from sklearn.preprocessing import OneHotEncoder\n",
        "from sklearn.model_selection import train_test_split\n",
        "from sklearn.metrics import confusion_matrix\n",
        "from tensorflow.keras.models import Sequential\n",
        "from tensorflow.keras.layers import LSTM, Dense, Dropout\n",
        "from tensorflow.keras.callbacks import EarlyStopping"
      ],
      "execution_count": 16,
      "outputs": []
    },
    {
      "cell_type": "markdown",
      "metadata": {
        "id": "Hr617tEpHd8R"
      },
      "source": [
        "## Data acquisition\n",
        "Seek a possible dataset, you can use any source, e.g.\n",
        "* http://www.gutenberg.org/\n",
        "* https://www.kaggle.com/datasets\n",
        "* https://paperswithcode.com/datasets\n",
        "* if you would like to learn Hungarian, than e.g. https://mek.oszk.hu/\n",
        "\n",
        "You can download the text by hand (e.g. by copy-pasting some parts into txt files) or with Python. "
      ]
    },
    {
      "cell_type": "code",
      "metadata": {
        "id": "NgkdQxHqHdZB"
      },
      "source": [
        "with open('/data/shakespeare_text.txt', 'r', encoding='utf-8') as f:\n",
        "    shakespeare = f.read()\n",
        "with open('/data/twain_text.txt', 'r', encoding='utf-8') as f:\n",
        "    twain = f.read()\n",
        "\n",
        "\n",
        "# run out of ram if dataset too big\n",
        "shakespeare = shakespeare[0:30000]\n",
        "twain = twain[0:30000]"
      ],
      "execution_count": 2,
      "outputs": []
    },
    {
      "cell_type": "markdown",
      "source": [
        "## Data analysis\n",
        "Count the number of characters from both authors and display them on a plot (e.g. Seaborn's countplot)."
      ],
      "metadata": {
        "id": "U9Pmq91t3SRD"
      }
    },
    {
      "cell_type": "code",
      "source": [
        "shakespeare_count = len(shakespeare)\n",
        "twain_count = len(twain)\n",
        "\n",
        "print(f\"Shakespeare character count: {shakespeare_count}\")\n",
        "print(f\"Twain character count: {twain_count}\")"
      ],
      "metadata": {
        "id": "uRqGdn4F3Spk",
        "colab": {
          "base_uri": "https://localhost:8080/"
        },
        "outputId": "c28a0a73-4a99-4b61-de35-a39cfec60f90"
      },
      "execution_count": 3,
      "outputs": [
        {
          "output_type": "stream",
          "name": "stdout",
          "text": [
            "Shakespeare character count: 30000\n",
            "Twain character count: 30000\n"
          ]
        }
      ]
    },
    {
      "cell_type": "code",
      "source": [
        "authors = ['Shakespeare', 'Twain']\n",
        "character_counts = [shakespeare_count, twain_count]\n",
        "\n",
        "sns.set(style=\"whitegrid\")\n",
        "plt.figure(figsize=(10, 6))\n",
        "ax = sns.barplot(x=authors, y=character_counts, palette=\"Blues_d\")\n",
        "ax.set(ylabel='Character Count', title='Character Count by Author')\n",
        "plt.show()"
      ],
      "metadata": {
        "colab": {
          "base_uri": "https://localhost:8080/",
          "height": 549
        },
        "id": "vw0DFnOkRktl",
        "outputId": "c6585901-838a-424b-977c-0c0f6965cd32"
      },
      "execution_count": 4,
      "outputs": [
        {
          "output_type": "display_data",
          "data": {
            "text/plain": [
              "<Figure size 1000x600 with 1 Axes>"
            ],
            "image/png": "[encoded data removed]"
          },
          "metadata": {}
        }
      ]
    },
    {
      "cell_type": "markdown",
      "metadata": {
        "id": "cHyE_ndGIblJ"
      },
      "source": [
        "## Data loading, labeling and preprocessing\n",
        "Load the data and convert the characters into one-hot encodings. Then load the data into a 3D NumPy array, with a shape of\n",
        "\n",
        "* (batch, sequence_length, alphabet_length)\n",
        "\n",
        "where sequence_length=60, and alphabet_length equals to the number of unique characters in both datasets. The sequences should be cut out from the complete dataset by sliding window. You should add 0 and 1 labels to the sequences, according to the author. \n",
        "\n",
        "Later you may change sequence_length to achieve better results!"
      ]
    },
    {
      "cell_type": "code",
      "metadata": {
        "id": "arooXt0WIb6x",
        "colab": {
          "base_uri": "https://localhost:8080/"
        },
        "outputId": "0e72c84c-723f-40d7-92bf-7217f995734e"
      },
      "source": [
        "combined_text = shakespeare + twain\n",
        "unique_chars = sorted(set(combined_text))\n",
        "alphabet_length = len(unique_chars)\n",
        "print(f\"Alphabet length: {alphabet_length}\")\n",
        "\n",
        "char_to_index = dict((c, i) for i, c in enumerate(unique_chars))"
      ],
      "execution_count": 5,
      "outputs": [
        {
          "output_type": "stream",
          "name": "stdout",
          "text": [
            "Alphabet length: 84\n"
          ]
        }
      ]
    },
    {
      "cell_type": "code",
      "source": [
        "sequence_length = 60\n",
        "\n",
        "def generate_sequences(text, author_label):\n",
        "    sequences = []\n",
        "    labels = []\n",
        "    for i in range(len(text) - sequence_length):\n",
        "        sequence = text[i:i + sequence_length]\n",
        "        encoded_sequence = [char_to_index[char] for char in sequence]\n",
        "        one_hot_sequence = np.zeros((sequence_length, alphabet_length))\n",
        "        for j, index in enumerate(encoded_sequence):\n",
        "            one_hot_sequence[j, index] = 1\n",
        "        sequences.append(one_hot_sequence)\n",
        "        labels.append(author_label)\n",
        "    return np.array(sequences), np.array(labels)"
      ],
      "metadata": {
        "id": "OinXW58xSnaC"
      },
      "execution_count": 6,
      "outputs": []
    },
    {
      "cell_type": "code",
      "source": [
        "shakespeare_sequences, shakespeare_labels = generate_sequences(shakespeare, 0)\n",
        "twain_sequences, twain_labels = generate_sequences(twain, 1)\n",
        "\n",
        "data = np.concatenate((shakespeare_sequences, twain_sequences), axis=0)\n",
        "labels = np.concatenate((shakespeare_labels, twain_labels), axis=0)"
      ],
      "metadata": {
        "id": "vDZ4yGcDS5HI"
      },
      "execution_count": 7,
      "outputs": []
    },
    {
      "cell_type": "markdown",
      "metadata": {
        "id": "lL1Mc8ibHnep"
      },
      "source": [
        "## Data splitting\n",
        "Split the data into train, validate and test sets. Make "
      ]
    },
    {
      "cell_type": "code",
      "metadata": {
        "id": "ELyG9XFUHrkB"
      },
      "source": [
        "X_train, X_test, y_train, y_test = train_test_split(data, labels, test_size=0.2, random_state=42, stratify=labels)"
      ],
      "execution_count": 8,
      "outputs": []
    },
    {
      "cell_type": "markdown",
      "metadata": {
        "id": "hA8U9tr7HrNQ"
      },
      "source": [
        "## Model definition\n",
        "Define a 1D CNN or an LSTM for the task. Compile the model with the correct loss function."
      ]
    },
    {
      "cell_type": "code",
      "metadata": {
        "id": "BT1V1s4kHuUe"
      },
      "source": [
        "def create_lstm_model(input_shape, num_classes):\n",
        "    model = Sequential()\n",
        "    model.add(LSTM(128, input_shape=input_shape, return_sequences=True))\n",
        "    model.add(Dropout(0.2))\n",
        "    model.add(LSTM(64))\n",
        "    model.add(Dropout(0.2))\n",
        "    model.add(Dense(32, activation='relu'))\n",
        "    model.add(Dense(num_classes, activation='softmax'))\n",
        "    return model"
      ],
      "execution_count": 10,
      "outputs": []
    },
    {
      "cell_type": "code",
      "source": [
        "input_shape = (sequence_length, alphabet_length)\n",
        "num_classes = 2\n",
        "\n",
        "model = create_lstm_model(input_shape, num_classes)\n",
        "\n",
        "model.compile(loss='sparse_categorical_crossentropy', optimizer='adam', metrics=['accuracy'])"
      ],
      "metadata": {
        "id": "wy7G60MVWjzk"
      },
      "execution_count": 11,
      "outputs": []
    },
    {
      "cell_type": "markdown",
      "metadata": {
        "id": "hWFb-nAMHuAI"
      },
      "source": [
        "## Model training\n",
        "Train the model and apply early stopping."
      ]
    },
    {
      "cell_type": "code",
      "metadata": {
        "id": "dvgKjqp3Hwkp"
      },
      "source": [
        "early_stopping = EarlyStopping(\n",
        "    monitor='val_loss', patience=3, restore_best_weights=True)"
      ],
      "execution_count": 13,
      "outputs": []
    },
    {
      "cell_type": "code",
      "source": [
        "batch_size = 64\n",
        "epochs = 50\n",
        "\n",
        "history = model.fit(\n",
        "    X_train, y_train,\n",
        "    validation_split=0.2,\n",
        "    batch_size=batch_size,\n",
        "    epochs=epochs,\n",
        "    callbacks=[early_stopping],\n",
        "    verbose=1\n",
        ")"
      ],
      "metadata": {
        "colab": {
          "base_uri": "https://localhost:8080/"
        },
        "id": "lV3SMgczW8-7",
        "outputId": "42f2e02d-2bcf-49a3-8145-b50565e6bf00"
      },
      "execution_count": 14,
      "outputs": [
        {
          "output_type": "stream",
          "name": "stdout",
          "text": [
            "Epoch 1/50\n",
            "599/599 [==============================] - 147s 235ms/step - loss: 0.2566 - accuracy: 0.8871 - val_loss: 0.1502 - val_accuracy: 0.9447\n",
            "Epoch 2/50\n",
            "599/599 [==============================] - 152s 254ms/step - loss: 0.1086 - accuracy: 0.9591 - val_loss: 0.0512 - val_accuracy: 0.9804\n",
            "Epoch 3/50\n",
            "599/599 [==============================] - 154s 256ms/step - loss: 0.0345 - accuracy: 0.9882 - val_loss: 0.0889 - val_accuracy: 0.9661\n",
            "Epoch 4/50\n",
            "599/599 [==============================] - 140s 234ms/step - loss: 0.0265 - accuracy: 0.9912 - val_loss: 0.0070 - val_accuracy: 0.9981\n",
            "Epoch 5/50\n",
            "599/599 [==============================] - 142s 237ms/step - loss: 0.0152 - accuracy: 0.9954 - val_loss: 0.0059 - val_accuracy: 0.9983\n",
            "Epoch 6/50\n",
            "599/599 [==============================] - 151s 252ms/step - loss: 0.0065 - accuracy: 0.9980 - val_loss: 0.0059 - val_accuracy: 0.9986\n",
            "Epoch 7/50\n",
            "599/599 [==============================] - 142s 236ms/step - loss: 0.0070 - accuracy: 0.9977 - val_loss: 5.7004e-04 - val_accuracy: 0.9998\n",
            "Epoch 8/50\n",
            "599/599 [==============================] - 141s 236ms/step - loss: 0.0049 - accuracy: 0.9981 - val_loss: 0.0141 - val_accuracy: 0.9951\n",
            "Epoch 9/50\n",
            "599/599 [==============================] - 139s 232ms/step - loss: 0.0083 - accuracy: 0.9975 - val_loss: 5.4610e-04 - val_accuracy: 0.9999\n",
            "Epoch 10/50\n",
            "599/599 [==============================] - 151s 252ms/step - loss: 0.0069 - accuracy: 0.9977 - val_loss: 0.0195 - val_accuracy: 0.9938\n",
            "Epoch 11/50\n",
            "599/599 [==============================] - 140s 234ms/step - loss: 0.0053 - accuracy: 0.9985 - val_loss: 0.0020 - val_accuracy: 0.9994\n",
            "Epoch 12/50\n",
            "599/599 [==============================] - 148s 247ms/step - loss: 0.0046 - accuracy: 0.9987 - val_loss: 0.0025 - val_accuracy: 0.9993\n"
          ]
        }
      ]
    },
    {
      "cell_type": "markdown",
      "metadata": {
        "id": "0omw2XzSHwOo"
      },
      "source": [
        "## Evaluation on test data\n",
        "Evaluate the model on the test data in terms of loss and accuracy."
      ]
    },
    {
      "cell_type": "code",
      "metadata": {
        "id": "4bF3dQA1Hv_R",
        "colab": {
          "base_uri": "https://localhost:8080/"
        },
        "outputId": "f68a4ea9-aeee-4e66-be7d-701878f51af7"
      },
      "source": [
        "test_loss, test_accuracy = model.evaluate(X_test, y_test, verbose=1)\n",
        "print(f\"Test loss: {test_loss:.4f}, Test accuracy: {test_accuracy * 100:.2f}%\")"
      ],
      "execution_count": 15,
      "outputs": [
        {
          "output_type": "stream",
          "name": "stdout",
          "text": [
            "375/375 [==============================] - 17s 46ms/step - loss: 0.0010 - accuracy: 0.9997\n",
            "Test loss: 0.0010, Test accuracy: 99.97%\n"
          ]
        }
      ]
    },
    {
      "cell_type": "markdown",
      "metadata": {
        "id": "4Y73Q-h5Hz1r"
      },
      "source": [
        "## Confusion matrix\n",
        "Calculate and display the confusion matrix."
      ]
    },
    {
      "cell_type": "code",
      "metadata": {
        "id": "cW8zZi1uJm2B",
        "colab": {
          "base_uri": "https://localhost:8080/",
          "height": 590
        },
        "outputId": "2611501d-625d-4388-f479-bb1255d9e421"
      },
      "source": [
        "y_pred_probs = model.predict(X_test)\n",
        "y_pred = np.argmax(y_pred_probs, axis=1)\n",
        "\n",
        "cm = confusion_matrix(y_test, y_pred)\n",
        "\n",
        "plt.figure(figsize=(8, 6))\n",
        "sns.heatmap(cm, annot=True, fmt='d', cmap='Blues', cbar=False, xticklabels=['Shakespeare', 'Twain'], yticklabels=['Shakespeare', 'Twain'])\n",
        "plt.xlabel('Predicted')\n",
        "plt.ylabel('True')\n",
        "plt.title('Confusion Matrix')\n",
        "plt.show()"
      ],
      "execution_count": 17,
      "outputs": [
        {
          "output_type": "stream",
          "name": "stdout",
          "text": [
            "375/375 [==============================] - 19s 49ms/step\n"
          ]
        },
        {
          "output_type": "display_data",
          "data": {
            "text/plain": [
              "<Figure size 800x600 with 1 Axes>"
            ],
            "image/png": "[encoded data removed]"
          },
          "metadata": {}
        }
      ]
    }
  ]
}